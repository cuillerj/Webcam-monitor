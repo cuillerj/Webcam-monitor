{
  "nbformat": 4,
  "nbformat_minor": 0,
  "metadata": {
    "colab": {
      "name": "determineFoscamv3",
      "provenance": [],
      "collapsed_sections": [],
      "authorship_tag": "ABX9TyO9VHVFSScpMtjkcsgv0bV0",
      "include_colab_link": true
    },
    "kernelspec": {
      "name": "python3",
      "display_name": "Python 3"
    },
    "language_info": {
      "name": "python"
    }
  },
  "cells": [
    {
      "cell_type": "markdown",
      "metadata": {
        "id": "view-in-github",
        "colab_type": "text"
      },
      "source": [
        "<a href=\"https://colab.research.google.com/github/cuillerj/Webcam-monitor/blob/main/determineFoscamv3.ipynb\" target=\"_parent\"><img src=\"https://colab.research.google.com/assets/colab-badge.svg\" alt=\"Open In Colab\"/></a>"
      ]
    },
    {
      "cell_type": "code",
      "execution_count": 381,
      "metadata": {
        "colab": {
          "base_uri": "https://localhost:8080/"
        },
        "id": "WbHRbfoYkZby",
        "outputId": "78f37e4a-867b-4c0b-cfc6-49d0e75accf3"
      },
      "outputs": [
        {
          "output_type": "stream",
          "name": "stdout",
          "text": [
            "2.2.0\n",
            "sql connector: <mysql.connector.connection.MySQLConnection object at 0x000001FF650B0EB0>\n"
          ]
        }
      ],
      "source": [
        "import tensorflow as tf\n",
        "import IPython.display as display\n",
        "import numpy as np\n",
        "import matplotlib.pyplot as plt\n",
        "import os\n",
        "import pathlib\n",
        "from pathlib import Path\n",
        "import pandas as pd\n",
        "import shutil\n",
        "import random\n",
        "import time\n",
        "import glob\n",
        "tf.__version__\n",
        "from skimage import data\n",
        "import matplotlib.pyplot as plt \n",
        "%matplotlib inline\n",
        "from PIL import Image, ImageDraw, ImageFilter,ImageOps\n",
        "from tensorflow.keras.models import Sequential\n",
        "from tensorflow.keras.layers import Dense, Conv2D, Flatten, Dropout, MaxPooling2D\n",
        "from tensorflow.keras.preprocessing.image import ImageDataGenerator\n",
        "from datetime import datetime\n",
        "print(tf.__version__)\n",
        "import mysql.connector\n",
        "domotique = mysql.connector.connect(\n",
        "  host=\"192.168.1.199\",\n",
        "  user=\"jean\",\n",
        "  password=\"manu7890\",\n",
        "  database=\"domotiquedata\"\n",
        ")\n",
        "\n",
        "print(\"sql connector:\",domotique)"
      ]
    },
    {
      "cell_type": "code",
      "source": [
        "def insert_Picture(name,value,det,type):\n",
        "   mycursor = domotique.cursor()\n",
        "   sql = \"INSERT INTO webCamPictures ( pictureTime, pictureName, pictureDeterminedValue, pictureDetermination,pictureType) VALUES (now(),%s,%s, %s,%s)\"\n",
        "   val = (name,value,det,type)\n",
        "   mycursor.execute(sql, val)\n",
        "   domotique.commit()"
      ],
      "metadata": {
        "id": "9TJktXA7MI7d"
      },
      "execution_count": 382,
      "outputs": []
    },
    {
      "cell_type": "code",
      "source": [
        "left = 15\n",
        "top = 80\n",
        "right = 1250\n",
        "bottom = 720\n",
        "left2 = 160\n",
        "top2 = 280\n",
        "right2 = 850\n",
        "bottom2 = 600\n",
        "labels =['ras','something']\n",
        "IMG_WIDTH=round((right-left)/2)\n",
        "IMG_HEIGHT=round((bottom-top)/2)\n",
        "newsize =(IMG_WIDTH,IMG_HEIGHT)\n",
        "IMG_WIDTH2=round((right2-left2)/2)\n",
        "IMG_HEIGHT2=round((bottom2-top2)/2)\n",
        "newsize2 =(IMG_WIDTH2,IMG_HEIGHT2)\n",
        "imageQuality = 75\n",
        "print(newsize2)\n",
        "origin_dir='X:/foscam/'\n",
        "checkpoint_path_Day = \"E:/Colab/Foscam/trainingv3/cp.ckpt\"\n",
        "checkpoint_path_Night = \"E:/Colab/Foscam/trainingNight/cp.ckpt\"\n",
        "day_Dir = pathlib.Path(os.path.join(origin_dir,'toDetermineDay2')) # must contain a sudirectory for test generator\n",
        "#day_dir = pathlib.Path(os.path.join(origin_dir,'toDetermineDay2/files'))\n",
        "night_Dir = pathlib.Path(os.path.join(origin_dir,'toDetermineNight'))\n",
        "#night_dir = pathlib.Path(os.path.join(origin_dir,'toDetermineNight/files'))\n",
        "print(day_dir)\n",
        "print(night_dir)\n",
        "running=True"
      ],
      "metadata": {
        "colab": {
          "base_uri": "https://localhost:8080/"
        },
        "id": "x9eAoP3ulHSI",
        "outputId": "b7df4964-4ee1-42e0-a8e9-3efc33a28b75"
      },
      "execution_count": 384,
      "outputs": [
        {
          "output_type": "stream",
          "name": "stdout",
          "text": [
            "(345, 160)\n",
            "X:\\foscam\\toDetermineDay2\\files\n",
            "X:\\foscam\\toDetermineNight\\files\n"
          ]
        }
      ]
    },
    {
      "cell_type": "code",
      "source": [
        "modelDay = Sequential([\n",
        "    Conv2D(8, 1, padding='same', activation='relu', input_shape=(IMG_HEIGHT2, IMG_WIDTH2 ,3)),\n",
        "    MaxPooling2D(),\n",
        "    Conv2D(16, 3, padding='same', activation='relu'),\n",
        "    MaxPooling2D(),\n",
        "    Conv2D(32, 3, padding='same', activation='relu'),\n",
        "    MaxPooling2D(),\n",
        "    Conv2D(64, 3, padding='same', activation='relu'),\n",
        "    MaxPooling2D(),\n",
        "    Conv2D(128, 3, padding='same', activation='relu'),\n",
        "    MaxPooling2D(),\n",
        "    Flatten(),\n",
        "    Dense(512, activation='relu'),\n",
        "    Dense(1)\n",
        "])\n",
        "modelDay.compile(optimizer='adam',\n",
        "              loss=tf.keras.losses.BinaryCrossentropy(from_logits=True),\n",
        "              metrics=['accuracy'])\n",
        "modelDay.summary()\n",
        "checkpoint_dir = os.path.dirname(checkpoint_path_Day)\n",
        "latest = tf.train.latest_checkpoint(checkpoint_dir)\n",
        "modelDay.load_weights(latest)\n",
        "print(\"Day weights loaded\")"
      ],
      "metadata": {
        "colab": {
          "base_uri": "https://localhost:8080/"
        },
        "id": "sgarA_IE2Rc8",
        "outputId": "bddeabcb-c2b2-46c5-8989-fbca2ca95d2d"
      },
      "execution_count": 385,
      "outputs": [
        {
          "output_type": "stream",
          "name": "stdout",
          "text": [
            "Model: \"sequential_23\"\n",
            "_________________________________________________________________\n",
            "Layer (type)                 Output Shape              Param #   \n",
            "=================================================================\n",
            "conv2d_115 (Conv2D)          (None, 160, 345, 8)       32        \n",
            "_________________________________________________________________\n",
            "max_pooling2d_115 (MaxPoolin (None, 80, 172, 8)        0         \n",
            "_________________________________________________________________\n",
            "conv2d_116 (Conv2D)          (None, 80, 172, 16)       1168      \n",
            "_________________________________________________________________\n",
            "max_pooling2d_116 (MaxPoolin (None, 40, 86, 16)        0         \n",
            "_________________________________________________________________\n",
            "conv2d_117 (Conv2D)          (None, 40, 86, 32)        4640      \n",
            "_________________________________________________________________\n",
            "max_pooling2d_117 (MaxPoolin (None, 20, 43, 32)        0         \n",
            "_________________________________________________________________\n",
            "conv2d_118 (Conv2D)          (None, 20, 43, 64)        18496     \n",
            "_________________________________________________________________\n",
            "max_pooling2d_118 (MaxPoolin (None, 10, 21, 64)        0         \n",
            "_________________________________________________________________\n",
            "conv2d_119 (Conv2D)          (None, 10, 21, 128)       73856     \n",
            "_________________________________________________________________\n",
            "max_pooling2d_119 (MaxPoolin (None, 5, 10, 128)        0         \n",
            "_________________________________________________________________\n",
            "flatten_23 (Flatten)         (None, 6400)              0         \n",
            "_________________________________________________________________\n",
            "dense_46 (Dense)             (None, 512)               3277312   \n",
            "_________________________________________________________________\n",
            "dense_47 (Dense)             (None, 1)                 513       \n",
            "=================================================================\n",
            "Total params: 3,376,017\n",
            "Trainable params: 3,376,017\n",
            "Non-trainable params: 0\n",
            "_________________________________________________________________\n",
            "Day weights loaded\n"
          ]
        }
      ]
    },
    {
      "cell_type": "code",
      "source": [
        "modelNight= Sequential([\n",
        "    Conv2D(8, 1, padding='same', activation='relu', input_shape=(IMG_HEIGHT2, IMG_WIDTH2 ,3)),\n",
        "    MaxPooling2D(),\n",
        "    Conv2D(16, 3, padding='same', activation='relu'),\n",
        "    MaxPooling2D(),\n",
        "    Conv2D(32, 3, padding='same', activation='relu'),\n",
        "    MaxPooling2D(),\n",
        "    Conv2D(64, 3, padding='same', activation='relu'),\n",
        "    MaxPooling2D(),\n",
        "    Conv2D(128, 3, padding='same', activation='relu'),\n",
        "    MaxPooling2D(),\n",
        "    Flatten(),\n",
        "    Dense(512, activation='relu'),\n",
        "    Dense(1)\n",
        "])\n",
        "modelNight.compile(optimizer='adam',\n",
        "              loss=tf.keras.losses.BinaryCrossentropy(from_logits=True),\n",
        "              metrics=['accuracy'])\n",
        "modelNight.summary()\n",
        "checkpoint_dir = os.path.dirname(checkpoint_path_Night)\n",
        "latest = tf.train.latest_checkpoint(checkpoint_dir)\n",
        "modelNight.load_weights(latest)\n",
        "print(\"Night weights loaded\")"
      ],
      "metadata": {
        "colab": {
          "base_uri": "https://localhost:8080/"
        },
        "id": "8lEZ4FkXbm58",
        "outputId": "c7a8f394-c23d-470b-f7c0-5650c6a73cce"
      },
      "execution_count": 386,
      "outputs": [
        {
          "output_type": "stream",
          "name": "stdout",
          "text": [
            "Model: \"sequential_24\"\n",
            "_________________________________________________________________\n",
            "Layer (type)                 Output Shape              Param #   \n",
            "=================================================================\n",
            "conv2d_120 (Conv2D)          (None, 160, 345, 8)       32        \n",
            "_________________________________________________________________\n",
            "max_pooling2d_120 (MaxPoolin (None, 80, 172, 8)        0         \n",
            "_________________________________________________________________\n",
            "conv2d_121 (Conv2D)          (None, 80, 172, 16)       1168      \n",
            "_________________________________________________________________\n",
            "max_pooling2d_121 (MaxPoolin (None, 40, 86, 16)        0         \n",
            "_________________________________________________________________\n",
            "conv2d_122 (Conv2D)          (None, 40, 86, 32)        4640      \n",
            "_________________________________________________________________\n",
            "max_pooling2d_122 (MaxPoolin (None, 20, 43, 32)        0         \n",
            "_________________________________________________________________\n",
            "conv2d_123 (Conv2D)          (None, 20, 43, 64)        18496     \n",
            "_________________________________________________________________\n",
            "max_pooling2d_123 (MaxPoolin (None, 10, 21, 64)        0         \n",
            "_________________________________________________________________\n",
            "conv2d_124 (Conv2D)          (None, 10, 21, 128)       73856     \n",
            "_________________________________________________________________\n",
            "max_pooling2d_124 (MaxPoolin (None, 5, 10, 128)        0         \n",
            "_________________________________________________________________\n",
            "flatten_24 (Flatten)         (None, 6400)              0         \n",
            "_________________________________________________________________\n",
            "dense_48 (Dense)             (None, 512)               3277312   \n",
            "_________________________________________________________________\n",
            "dense_49 (Dense)             (None, 1)                 513       \n",
            "=================================================================\n",
            "Total params: 3,376,017\n",
            "Trainable params: 3,376,017\n",
            "Non-trainable params: 0\n",
            "_________________________________________________________________\n",
            "Night weights loaded\n"
          ]
        }
      ]
    },
    {
      "cell_type": "code",
      "source": [
        "while running:\n",
        "  day_dir = pathlib.Path(os.path.join(origin_dir,'toDetermineDay2/files'))\n",
        "  dayList = list(day_dir.glob('*.jpg'))\n",
        "  filesNb=len(dayList)\n",
        "  if (filesNb>0):\n",
        "    print (\"nombre de photos couleur à determiner:\",filesNb)\n",
        "    day_image_generator = ImageDataGenerator(rescale=1./255) # Generator for our test data\n",
        "    day_generator = day_image_generator.flow_from_directory(batch_size=filesNb,\n",
        "                                                              directory=day_Dir,\n",
        "                                                              shuffle=False,\n",
        "                                                              target_size=(IMG_HEIGHT2, IMG_WIDTH2),\n",
        "                                                              class_mode='binary')\n",
        "    STEP_SIZE_TEST=day_generator.n //test_generator.batch_size\n",
        "    day_generator.reset()\n",
        "    predDay=modelDay.predict(day_generator)\n",
        "    xDay=predDay>=0\n",
        "    predicted_class_indices=[int(item) for item in xDay]\n",
        "    predictions = [labels[k] for k in predicted_class_indices]\n",
        "    values  = [predDay[k][0] for k in range(predDay.size)]\n",
        "    x=max(predDay)\n",
        "    idx=np.where(predDay==x)\n",
        "    listArr=np.asarray(dayList)\n",
        "    predicted_class_indices=[int(item) for item in xDay]\n",
        "    predictions = [labels[k] for k in predicted_class_indices]\n",
        "    values  = [predDay[k][0] for k in range(predDay.size)]\n",
        "    print(x)\n",
        "    id=idx[0]\n",
        "    print(id)\n",
        "    for i in range(0,(filesNb)):\n",
        "      fname=str(listArr[i])\n",
        "      idx=fname.find(\"MDAlarm\")\n",
        "      fname=fname[idx:]\n",
        "      det=predictions[int(i)]\n",
        "      value=float(predDay[int(i)])\n",
        "      print(fname,det)\n",
        "      insert_Picture(fname,value,det,1)\n",
        "      if os.path.exists(str(listArr[i])):\n",
        "        os.remove(str(listArr[i]))\n",
        "      else:\n",
        "        print(str(listArr[i]),\" does not exist\")\n",
        "      #  nightList = list(night_dir.glob('*.jpg'))\n",
        "      if(len(nightList)>0):\n",
        "        print (\"nombre de photos N&B à determiner:\",len(nightList))\n",
        "\n",
        "  night_dir = pathlib.Path(os.path.join(origin_dir,'toDetermineNight/files'))\n",
        "  nightList = list(night_dir.glob('*.jpg'))\n",
        "  filesNb=len(nightList)\n",
        "  if (filesNb>0):\n",
        "    print (\"nombre de photos N&B à determiner:\",filesNb)\n",
        "    night_image_generator = ImageDataGenerator(rescale=1./255) # Generator for our test data\n",
        "    night_generator = night_image_generator.flow_from_directory(batch_size=len(nightList),\n",
        "                                                              directory=night_Dir,\n",
        "                                                              shuffle=False,\n",
        "                                                              target_size=(IMG_HEIGHT2, IMG_WIDTH2),\n",
        "                                                              class_mode='binary')\n",
        " #   STEP_SIZE_TEST=day_generator.n //test_generator.batch_size\n",
        "    night_generator.reset()\n",
        "    predNight=modelNight.predict(night_generator)\n",
        "    xNight=predNight>=0\n",
        "    predicted_class_indices=[int(item) for item in xDay]\n",
        "    predictions = [labels[k] for k in predicted_class_indices]\n",
        "    values  = [predNight[k][0] for k in range(predNight.size)]\n",
        "#    x=max(predDay)\n",
        " #   idx=np.where(predDay==x)\n",
        "    listArr=np.asarray(nightList)\n",
        "    predicted_class_indices=[int(item) for item in xNight]\n",
        "    predictions = [labels[k] for k in predicted_class_indices]\n",
        "    values  = [predNight[k][0] for k in range(predNight.size)]\n",
        " #   print(x)\n",
        "  #  id=idx[0]\n",
        "   # print(id)\n",
        "    for i in range(0,(filesNb)):\n",
        "      fname=str(listArr[i])\n",
        "      idx=fname.find(\"MDAlarm\")\n",
        "      fname=fname[idx:]\n",
        "      det=predictions[int(i)]\n",
        "      value=float(predNight[int(i)])\n",
        "      print(fname,det)\n",
        "      insert_Picture(fname,value,det,2)\n",
        "      if os.path.exists(str(listArr[i])):\n",
        "        os.remove(str(listArr[i]))\n",
        "      else:\n",
        "        print(str(listArr[i]),\" does not exist\")\n",
        "      #  nightList = list(night_dir.glob('*.jpg'))\n",
        "      if(len(nightList)>0):\n",
        "        print (\"nombre de photos N&B à determiner:\",len(nightList))  \n",
        "  time.sleep(30)"
      ],
      "metadata": {
        "colab": {
          "base_uri": "https://localhost:8080/"
        },
        "id": "uAm4EU9fdh_T",
        "outputId": "d86a5269-c4d3-46af-a466-f0a42c0fd846"
      },
      "execution_count": null,
      "outputs": [
        {
          "output_type": "stream",
          "name": "stdout",
          "text": [
            "nombre de photos N&B à determiner: 87\n",
            "Found 87 images belonging to 1 classes.\n",
            "MDAlarm_20220315-194431.jpg ras\n",
            "nombre de photos N&B à determiner: 87\n",
            "MDAlarm_20220315-194433.jpg ras\n",
            "nombre de photos N&B à determiner: 87\n",
            "MDAlarm_20220315-194435.jpg ras\n",
            "nombre de photos N&B à determiner: 87\n",
            "MDAlarm_20220315-194445.jpg something\n",
            "nombre de photos N&B à determiner: 87\n",
            "MDAlarm_20220315-194447.jpg something\n",
            "nombre de photos N&B à determiner: 87\n",
            "MDAlarm_20220315-194449.jpg ras\n",
            "nombre de photos N&B à determiner: 87\n",
            "MDAlarm_20220315-194502.jpg ras\n",
            "nombre de photos N&B à determiner: 87\n",
            "MDAlarm_20220315-194504.jpg ras\n",
            "nombre de photos N&B à determiner: 87\n",
            "MDAlarm_20220315-194506.jpg something\n",
            "nombre de photos N&B à determiner: 87\n",
            "MDAlarm_20220315-194535.jpg ras\n",
            "nombre de photos N&B à determiner: 87\n",
            "MDAlarm_20220315-194537.jpg something\n",
            "nombre de photos N&B à determiner: 87\n",
            "MDAlarm_20220315-194539.jpg ras\n",
            "nombre de photos N&B à determiner: 87\n",
            "MDAlarm_20220315-195338.jpg ras\n",
            "nombre de photos N&B à determiner: 87\n",
            "MDAlarm_20220315-195340.jpg ras\n",
            "nombre de photos N&B à determiner: 87\n",
            "MDAlarm_20220315-195342.jpg ras\n",
            "nombre de photos N&B à determiner: 87\n",
            "MDAlarm_20220315-195558.jpg ras\n",
            "nombre de photos N&B à determiner: 87\n",
            "MDAlarm_20220315-195600.jpg ras\n",
            "nombre de photos N&B à determiner: 87\n",
            "MDAlarm_20220315-195602.jpg ras\n",
            "nombre de photos N&B à determiner: 87\n",
            "MDAlarm_20220315-201224.jpg ras\n",
            "nombre de photos N&B à determiner: 87\n",
            "MDAlarm_20220315-201226.jpg ras\n",
            "nombre de photos N&B à determiner: 87\n",
            "MDAlarm_20220315-201228.jpg ras\n",
            "nombre de photos N&B à determiner: 87\n",
            "MDAlarm_20220315-210614.jpg ras\n",
            "nombre de photos N&B à determiner: 87\n",
            "MDAlarm_20220315-210616.jpg ras\n",
            "nombre de photos N&B à determiner: 87\n",
            "MDAlarm_20220315-210618.jpg ras\n",
            "nombre de photos N&B à determiner: 87\n",
            "MDAlarm_20220315-220543.jpg ras\n",
            "nombre de photos N&B à determiner: 87\n",
            "MDAlarm_20220315-220545.jpg ras\n",
            "nombre de photos N&B à determiner: 87\n",
            "MDAlarm_20220315-220547.jpg ras\n",
            "nombre de photos N&B à determiner: 87\n",
            "MDAlarm_20220315-221053.jpg ras\n",
            "nombre de photos N&B à determiner: 87\n",
            "MDAlarm_20220315-221055.jpg ras\n",
            "nombre de photos N&B à determiner: 87\n",
            "MDAlarm_20220315-221057.jpg ras\n",
            "nombre de photos N&B à determiner: 87\n",
            "MDAlarm_20220315-221220.jpg ras\n",
            "nombre de photos N&B à determiner: 87\n",
            "MDAlarm_20220315-221222.jpg ras\n",
            "nombre de photos N&B à determiner: 87\n",
            "MDAlarm_20220315-221224.jpg ras\n",
            "nombre de photos N&B à determiner: 87\n",
            "MDAlarm_20220315-222548.jpg ras\n",
            "nombre de photos N&B à determiner: 87\n",
            "MDAlarm_20220315-222550.jpg ras\n",
            "nombre de photos N&B à determiner: 87\n",
            "MDAlarm_20220315-222552.jpg ras\n",
            "nombre de photos N&B à determiner: 87\n",
            "MDAlarm_20220315-231848.jpg ras\n",
            "nombre de photos N&B à determiner: 87\n",
            "MDAlarm_20220315-231850.jpg ras\n",
            "nombre de photos N&B à determiner: 87\n",
            "MDAlarm_20220315-231852.jpg ras\n",
            "nombre de photos N&B à determiner: 87\n",
            "MDAlarm_20220316-000850.jpg ras\n",
            "nombre de photos N&B à determiner: 87\n",
            "MDAlarm_20220316-000852.jpg ras\n",
            "nombre de photos N&B à determiner: 87\n",
            "MDAlarm_20220316-000854.jpg ras\n",
            "nombre de photos N&B à determiner: 87\n",
            "MDAlarm_20220316-001827.jpg ras\n",
            "nombre de photos N&B à determiner: 87\n",
            "MDAlarm_20220316-001829.jpg ras\n",
            "nombre de photos N&B à determiner: 87\n",
            "MDAlarm_20220316-001831.jpg ras\n",
            "nombre de photos N&B à determiner: 87\n",
            "MDAlarm_20220316-022659.jpg ras\n",
            "nombre de photos N&B à determiner: 87\n",
            "MDAlarm_20220316-022701.jpg ras\n",
            "nombre de photos N&B à determiner: 87\n",
            "MDAlarm_20220316-022703.jpg ras\n",
            "nombre de photos N&B à determiner: 87\n",
            "MDAlarm_20220316-033808.jpg ras\n",
            "nombre de photos N&B à determiner: 87\n",
            "MDAlarm_20220316-033810.jpg ras\n",
            "nombre de photos N&B à determiner: 87\n",
            "MDAlarm_20220316-033812.jpg ras\n",
            "nombre de photos N&B à determiner: 87\n",
            "MDAlarm_20220316-044641.jpg ras\n",
            "nombre de photos N&B à determiner: 87\n",
            "MDAlarm_20220316-044643.jpg ras\n",
            "nombre de photos N&B à determiner: 87\n",
            "MDAlarm_20220316-044645.jpg ras\n",
            "nombre de photos N&B à determiner: 87\n",
            "MDAlarm_20220316-052730.jpg ras\n",
            "nombre de photos N&B à determiner: 87\n",
            "MDAlarm_20220316-052732.jpg ras\n",
            "nombre de photos N&B à determiner: 87\n",
            "MDAlarm_20220316-052734.jpg ras\n",
            "nombre de photos N&B à determiner: 87\n",
            "MDAlarm_20220316-053106.jpg ras\n",
            "nombre de photos N&B à determiner: 87\n",
            "MDAlarm_20220316-053108.jpg ras\n",
            "nombre de photos N&B à determiner: 87\n",
            "MDAlarm_20220316-053110.jpg ras\n",
            "nombre de photos N&B à determiner: 87\n",
            "MDAlarm_20220316-053433.jpg ras\n",
            "nombre de photos N&B à determiner: 87\n",
            "MDAlarm_20220316-053435.jpg ras\n",
            "nombre de photos N&B à determiner: 87\n",
            "MDAlarm_20220316-053437.jpg ras\n",
            "nombre de photos N&B à determiner: 87\n",
            "MDAlarm_20220316-053620.jpg ras\n",
            "nombre de photos N&B à determiner: 87\n",
            "MDAlarm_20220316-053622.jpg ras\n",
            "nombre de photos N&B à determiner: 87\n",
            "MDAlarm_20220316-053624.jpg ras\n",
            "nombre de photos N&B à determiner: 87\n",
            "MDAlarm_20220316-053809.jpg ras\n",
            "nombre de photos N&B à determiner: 87\n",
            "MDAlarm_20220316-053811.jpg ras\n",
            "nombre de photos N&B à determiner: 87\n",
            "MDAlarm_20220316-053813.jpg ras\n",
            "nombre de photos N&B à determiner: 87\n",
            "MDAlarm_20220316-054819.jpg ras\n",
            "nombre de photos N&B à determiner: 87\n",
            "MDAlarm_20220316-054821.jpg ras\n",
            "nombre de photos N&B à determiner: 87\n",
            "MDAlarm_20220316-054823.jpg ras\n",
            "nombre de photos N&B à determiner: 87\n",
            "MDAlarm_20220316-054954.jpg ras\n",
            "nombre de photos N&B à determiner: 87\n",
            "MDAlarm_20220316-054956.jpg ras\n",
            "nombre de photos N&B à determiner: 87\n",
            "MDAlarm_20220316-054958.jpg ras\n",
            "nombre de photos N&B à determiner: 87\n",
            "MDAlarm_20220316-060026.jpg ras\n",
            "nombre de photos N&B à determiner: 87\n",
            "MDAlarm_20220316-060028.jpg ras\n",
            "nombre de photos N&B à determiner: 87\n",
            "MDAlarm_20220316-060030.jpg ras\n",
            "nombre de photos N&B à determiner: 87\n",
            "MDAlarm_20220316-062319.jpg ras\n",
            "nombre de photos N&B à determiner: 87\n",
            "MDAlarm_20220316-062321.jpg ras\n",
            "nombre de photos N&B à determiner: 87\n",
            "MDAlarm_20220316-062323.jpg ras\n",
            "nombre de photos N&B à determiner: 87\n",
            "MDAlarm_20220316-062853.jpg ras\n",
            "nombre de photos N&B à determiner: 87\n",
            "MDAlarm_20220316-062855.jpg ras\n",
            "nombre de photos N&B à determiner: 87\n",
            "MDAlarm_20220316-062857.jpg ras\n",
            "nombre de photos N&B à determiner: 87\n",
            "MDAlarm_20220316-063421.jpg ras\n",
            "nombre de photos N&B à determiner: 87\n",
            "MDAlarm_20220316-063423.jpg ras\n",
            "nombre de photos N&B à determiner: 87\n",
            "MDAlarm_20220316-063425.jpg ras\n",
            "nombre de photos N&B à determiner: 87\n",
            "nombre de photos couleur à determiner: 3\n",
            "Found 3 images belonging to 1 classes.\n",
            "[7.543523]\n",
            "[2]\n",
            "MDAlarm_20220316-081610.jpg something\n",
            "MDAlarm_20220316-081612.jpg something\n",
            "MDAlarm_20220316-081614.jpg something\n",
            "nombre de photos couleur à determiner: 1\n",
            "Found 1 images belonging to 1 classes.\n",
            "[3.0992758]\n",
            "[0]\n",
            "MDAlarm_20220316-084820.jpg something\n",
            "nombre de photos couleur à determiner: 2\n",
            "Found 2 images belonging to 1 classes.\n",
            "[3.41376]\n",
            "[1]\n",
            "MDAlarm_20220316-084822.jpg something\n",
            "MDAlarm_20220316-084824.jpg something\n"
          ]
        }
      ]
    },
    {
      "cell_type": "code",
      "source": [
        "#day_dir = pathlib.Path(os.path.join(origin_dir,'toDetermineDay2/files'))\n",
        "dayList = list(day_dir.glob('*.jpg'))\n",
        "dayList"
      ],
      "metadata": {
        "colab": {
          "base_uri": "https://localhost:8080/"
        },
        "id": "gLzuq1xqnJZX",
        "outputId": "654ffc55-9c90-468d-a136-966519ff3a81"
      },
      "execution_count": 378,
      "outputs": [
        {
          "output_type": "execute_result",
          "data": {
            "text/plain": [
              "[WindowsPath('X:/foscam/toDetermineDay2/files/MDAlarm_20220315-100948.jpg'),\n",
              " WindowsPath('X:/foscam/toDetermineDay2/files/MDAlarm_20220315-101014.jpg'),\n",
              " WindowsPath('X:/foscam/toDetermineDay2/files/MDAlarm_20220315-101016.jpg'),\n",
              " WindowsPath('X:/foscam/toDetermineDay2/files/MDAlarm_20220315-101018.jpg'),\n",
              " WindowsPath('X:/foscam/toDetermineDay2/files/MDAlarm_20220315-115943.jpg'),\n",
              " WindowsPath('X:/foscam/toDetermineDay2/files/MDAlarm_20220315-115945.jpg'),\n",
              " WindowsPath('X:/foscam/toDetermineDay2/files/MDAlarm_20220315-115947.jpg'),\n",
              " WindowsPath('X:/foscam/toDetermineDay2/files/MDAlarm_20220315-115949.jpg'),\n",
              " WindowsPath('X:/foscam/toDetermineDay2/files/MDAlarm_20220315-115951.jpg'),\n",
              " WindowsPath('X:/foscam/toDetermineDay2/files/MDAlarm_20220315-115953.jpg'),\n",
              " WindowsPath('X:/foscam/toDetermineDay2/files/MDAlarm_20220315-120000.jpg'),\n",
              " WindowsPath('X:/foscam/toDetermineDay2/files/MDAlarm_20220315-120002.jpg'),\n",
              " WindowsPath('X:/foscam/toDetermineDay2/files/MDAlarm_20220315-120004.jpg'),\n",
              " WindowsPath('X:/foscam/toDetermineDay2/files/MDAlarm_20220315-120016.jpg'),\n",
              " WindowsPath('X:/foscam/toDetermineDay2/files/MDAlarm_20220315-120018.jpg'),\n",
              " WindowsPath('X:/foscam/toDetermineDay2/files/MDAlarm_20220315-120020.jpg'),\n",
              " WindowsPath('X:/foscam/toDetermineDay2/files/MDAlarm_20220315-121054.jpg'),\n",
              " WindowsPath('X:/foscam/toDetermineDay2/files/MDAlarm_20220315-121056.jpg'),\n",
              " WindowsPath('X:/foscam/toDetermineDay2/files/MDAlarm_20220315-121058.jpg'),\n",
              " WindowsPath('X:/foscam/toDetermineDay2/files/MDAlarm_20220315-121103.jpg'),\n",
              " WindowsPath('X:/foscam/toDetermineDay2/files/MDAlarm_20220315-121105.jpg'),\n",
              " WindowsPath('X:/foscam/toDetermineDay2/files/MDAlarm_20220315-121107.jpg'),\n",
              " WindowsPath('X:/foscam/toDetermineDay2/files/MDAlarm_20220315-140947.jpg'),\n",
              " WindowsPath('X:/foscam/toDetermineDay2/files/MDAlarm_20220315-140949.jpg'),\n",
              " WindowsPath('X:/foscam/toDetermineDay2/files/MDAlarm_20220315-140951.jpg')]"
            ]
          },
          "metadata": {},
          "execution_count": 378
        }
      ]
    },
    {
      "cell_type": "code",
      "source": [
        "test_image_generator = ImageDataGenerator(rescale=1./255) # Generator for our test data\n",
        "day_generator = test_image_generator.flow_from_directory(batch_size=len(dayList),\n",
        "                                                              directory=day_Dir,\n",
        "                                                              shuffle=False,\n",
        "                                                              target_size=(IMG_HEIGHT2, IMG_WIDTH2),\n",
        "                                                              class_mode='binary')\n",
        "STEP_SIZE_TEST=day_generator.n //test_generator.batch_size\n",
        "test_generator.reset()\n",
        "predDay=modelDay.predict(day_generator,steps=STEP_SIZE_TEST,verbose=1)\n",
        "predDay.size"
      ],
      "metadata": {
        "colab": {
          "base_uri": "https://localhost:8080/",
          "height": 892
        },
        "id": "RwmCRNzo4WhL",
        "outputId": "85b51aaf-3895-4f38-e778-13c9a4352e80"
      },
      "execution_count": 359,
      "outputs": [
        {
          "output_type": "stream",
          "name": "stdout",
          "text": [
            "Found 3 images belonging to 1 classes.\n"
          ]
        },
        {
          "output_type": "error",
          "ename": "AttributeError",
          "evalue": "ignored",
          "traceback": [
            "\u001b[1;31m---------------------------------------------------------------------------\u001b[0m",
            "\u001b[1;31mAttributeError\u001b[0m                            Traceback (most recent call last)",
            "\u001b[1;32m<ipython-input-359-11a2fbfcb92f>\u001b[0m in \u001b[0;36m<module>\u001b[1;34m\u001b[0m\n\u001b[0;32m      7\u001b[0m \u001b[0mSTEP_SIZE_TEST\u001b[0m\u001b[1;33m=\u001b[0m\u001b[0mday_generator\u001b[0m\u001b[1;33m.\u001b[0m\u001b[0mn\u001b[0m \u001b[1;33m//\u001b[0m\u001b[0mtest_generator\u001b[0m\u001b[1;33m.\u001b[0m\u001b[0mbatch_size\u001b[0m\u001b[1;33m\u001b[0m\u001b[1;33m\u001b[0m\u001b[0m\n\u001b[0;32m      8\u001b[0m \u001b[0mtest_generator\u001b[0m\u001b[1;33m.\u001b[0m\u001b[0mreset\u001b[0m\u001b[1;33m(\u001b[0m\u001b[1;33m)\u001b[0m\u001b[1;33m\u001b[0m\u001b[1;33m\u001b[0m\u001b[0m\n\u001b[1;32m----> 9\u001b[1;33m \u001b[0mpredDay\u001b[0m\u001b[1;33m=\u001b[0m\u001b[0mmodelDay\u001b[0m\u001b[1;33m.\u001b[0m\u001b[0mpredict\u001b[0m\u001b[1;33m(\u001b[0m\u001b[0mday_generator\u001b[0m\u001b[1;33m,\u001b[0m\u001b[0msteps\u001b[0m\u001b[1;33m=\u001b[0m\u001b[0mSTEP_SIZE_TEST\u001b[0m\u001b[1;33m,\u001b[0m\u001b[0mverbose\u001b[0m\u001b[1;33m=\u001b[0m\u001b[1;36m1\u001b[0m\u001b[1;33m)\u001b[0m\u001b[1;33m\u001b[0m\u001b[1;33m\u001b[0m\u001b[0m\n\u001b[0m\u001b[0;32m     10\u001b[0m \u001b[0mpredDay\u001b[0m\u001b[1;33m.\u001b[0m\u001b[0msize\u001b[0m\u001b[1;33m\u001b[0m\u001b[1;33m\u001b[0m\u001b[0m\n",
            "\u001b[1;32me:\\codepython\\colabenv\\lib\\site-packages\\tensorflow\\python\\keras\\engine\\training.py\u001b[0m in \u001b[0;36m_method_wrapper\u001b[1;34m(self, *args, **kwargs)\u001b[0m\n\u001b[0;32m     86\u001b[0m       raise ValueError('{} is not supported in multi-worker mode.'.format(\n\u001b[0;32m     87\u001b[0m           method.__name__))\n\u001b[1;32m---> 88\u001b[1;33m     \u001b[1;32mreturn\u001b[0m \u001b[0mmethod\u001b[0m\u001b[1;33m(\u001b[0m\u001b[0mself\u001b[0m\u001b[1;33m,\u001b[0m \u001b[1;33m*\u001b[0m\u001b[0margs\u001b[0m\u001b[1;33m,\u001b[0m \u001b[1;33m**\u001b[0m\u001b[0mkwargs\u001b[0m\u001b[1;33m)\u001b[0m\u001b[1;33m\u001b[0m\u001b[1;33m\u001b[0m\u001b[0m\n\u001b[0m\u001b[0;32m     89\u001b[0m \u001b[1;33m\u001b[0m\u001b[0m\n\u001b[0;32m     90\u001b[0m   return tf_decorator.make_decorator(\n",
            "\u001b[1;32me:\\codepython\\colabenv\\lib\\site-packages\\tensorflow\\python\\keras\\engine\\training.py\u001b[0m in \u001b[0;36mpredict\u001b[1;34m(self, x, batch_size, verbose, steps, callbacks, max_queue_size, workers, use_multiprocessing)\u001b[0m\n\u001b[0;32m   1282\u001b[0m                   outputs, batch_outputs)\n\u001b[0;32m   1283\u001b[0m             \u001b[0mcallbacks\u001b[0m\u001b[1;33m.\u001b[0m\u001b[0mon_predict_batch_end\u001b[0m\u001b[1;33m(\u001b[0m\u001b[0mstep\u001b[0m\u001b[1;33m,\u001b[0m \u001b[1;33m{\u001b[0m\u001b[1;34m'outputs'\u001b[0m\u001b[1;33m:\u001b[0m \u001b[0mbatch_outputs\u001b[0m\u001b[1;33m}\u001b[0m\u001b[1;33m)\u001b[0m\u001b[1;33m\u001b[0m\u001b[1;33m\u001b[0m\u001b[0m\n\u001b[1;32m-> 1284\u001b[1;33m       \u001b[0mcallbacks\u001b[0m\u001b[1;33m.\u001b[0m\u001b[0mon_predict_end\u001b[0m\u001b[1;33m(\u001b[0m\u001b[1;33m)\u001b[0m\u001b[1;33m\u001b[0m\u001b[1;33m\u001b[0m\u001b[0m\n\u001b[0m\u001b[0;32m   1285\u001b[0m     \u001b[0mall_outputs\u001b[0m \u001b[1;33m=\u001b[0m \u001b[0mnest\u001b[0m\u001b[1;33m.\u001b[0m\u001b[0mmap_structure_up_to\u001b[0m\u001b[1;33m(\u001b[0m\u001b[0mbatch_outputs\u001b[0m\u001b[1;33m,\u001b[0m \u001b[0mconcat\u001b[0m\u001b[1;33m,\u001b[0m \u001b[0moutputs\u001b[0m\u001b[1;33m)\u001b[0m\u001b[1;33m\u001b[0m\u001b[1;33m\u001b[0m\u001b[0m\n\u001b[0;32m   1286\u001b[0m     \u001b[1;32mreturn\u001b[0m \u001b[0mtf_utils\u001b[0m\u001b[1;33m.\u001b[0m\u001b[0mto_numpy_or_python_type\u001b[0m\u001b[1;33m(\u001b[0m\u001b[0mall_outputs\u001b[0m\u001b[1;33m)\u001b[0m\u001b[1;33m\u001b[0m\u001b[1;33m\u001b[0m\u001b[0m\n",
            "\u001b[1;32me:\\codepython\\colabenv\\lib\\site-packages\\tensorflow\\python\\keras\\callbacks.py\u001b[0m in \u001b[0;36mon_predict_end\u001b[1;34m(self, logs)\u001b[0m\n\u001b[0;32m    500\u001b[0m     \u001b[0mlogs\u001b[0m \u001b[1;33m=\u001b[0m \u001b[0mself\u001b[0m\u001b[1;33m.\u001b[0m\u001b[0m_process_logs\u001b[0m\u001b[1;33m(\u001b[0m\u001b[0mlogs\u001b[0m\u001b[1;33m)\u001b[0m\u001b[1;33m\u001b[0m\u001b[1;33m\u001b[0m\u001b[0m\n\u001b[0;32m    501\u001b[0m     \u001b[1;32mfor\u001b[0m \u001b[0mcallback\u001b[0m \u001b[1;32min\u001b[0m \u001b[0mself\u001b[0m\u001b[1;33m.\u001b[0m\u001b[0mcallbacks\u001b[0m\u001b[1;33m:\u001b[0m\u001b[1;33m\u001b[0m\u001b[1;33m\u001b[0m\u001b[0m\n\u001b[1;32m--> 502\u001b[1;33m       \u001b[0mcallback\u001b[0m\u001b[1;33m.\u001b[0m\u001b[0mon_predict_end\u001b[0m\u001b[1;33m(\u001b[0m\u001b[0mlogs\u001b[0m\u001b[1;33m)\u001b[0m\u001b[1;33m\u001b[0m\u001b[1;33m\u001b[0m\u001b[0m\n\u001b[0m\u001b[0;32m    503\u001b[0m \u001b[1;33m\u001b[0m\u001b[0m\n\u001b[0;32m    504\u001b[0m   \u001b[1;32mdef\u001b[0m \u001b[0m__iter__\u001b[0m\u001b[1;33m(\u001b[0m\u001b[0mself\u001b[0m\u001b[1;33m)\u001b[0m\u001b[1;33m:\u001b[0m\u001b[1;33m\u001b[0m\u001b[1;33m\u001b[0m\u001b[0m\n",
            "\u001b[1;32me:\\codepython\\colabenv\\lib\\site-packages\\tensorflow\\python\\keras\\callbacks.py\u001b[0m in \u001b[0;36mon_predict_end\u001b[1;34m(self, logs)\u001b[0m\n\u001b[0;32m    899\u001b[0m \u001b[1;33m\u001b[0m\u001b[0m\n\u001b[0;32m    900\u001b[0m   \u001b[1;32mdef\u001b[0m \u001b[0mon_predict_end\u001b[0m\u001b[1;33m(\u001b[0m\u001b[0mself\u001b[0m\u001b[1;33m,\u001b[0m \u001b[0mlogs\u001b[0m\u001b[1;33m=\u001b[0m\u001b[1;32mNone\u001b[0m\u001b[1;33m)\u001b[0m\u001b[1;33m:\u001b[0m\u001b[1;33m\u001b[0m\u001b[1;33m\u001b[0m\u001b[0m\n\u001b[1;32m--> 901\u001b[1;33m     \u001b[0mself\u001b[0m\u001b[1;33m.\u001b[0m\u001b[0m_finalize_progbar\u001b[0m\u001b[1;33m(\u001b[0m\u001b[0mlogs\u001b[0m\u001b[1;33m)\u001b[0m\u001b[1;33m\u001b[0m\u001b[1;33m\u001b[0m\u001b[0m\n\u001b[0m\u001b[0;32m    902\u001b[0m \u001b[1;33m\u001b[0m\u001b[0m\n\u001b[0;32m    903\u001b[0m   \u001b[1;32mdef\u001b[0m \u001b[0m_reset_progbar\u001b[0m\u001b[1;33m(\u001b[0m\u001b[0mself\u001b[0m\u001b[1;33m)\u001b[0m\u001b[1;33m:\u001b[0m\u001b[1;33m\u001b[0m\u001b[1;33m\u001b[0m\u001b[0m\n",
            "\u001b[1;32me:\\codepython\\colabenv\\lib\\site-packages\\tensorflow\\python\\keras\\callbacks.py\u001b[0m in \u001b[0;36m_finalize_progbar\u001b[1;34m(self, logs)\u001b[0m\n\u001b[0;32m    933\u001b[0m       \u001b[0mself\u001b[0m\u001b[1;33m.\u001b[0m\u001b[0mprogbar\u001b[0m\u001b[1;33m.\u001b[0m\u001b[0mtarget\u001b[0m \u001b[1;33m=\u001b[0m \u001b[0mself\u001b[0m\u001b[1;33m.\u001b[0m\u001b[0mseen\u001b[0m\u001b[1;33m\u001b[0m\u001b[1;33m\u001b[0m\u001b[0m\n\u001b[0;32m    934\u001b[0m     \u001b[0mlogs\u001b[0m \u001b[1;33m=\u001b[0m \u001b[0mlogs\u001b[0m \u001b[1;32mor\u001b[0m \u001b[1;33m{\u001b[0m\u001b[1;33m}\u001b[0m\u001b[1;33m\u001b[0m\u001b[1;33m\u001b[0m\u001b[0m\n\u001b[1;32m--> 935\u001b[1;33m     \u001b[0mself\u001b[0m\u001b[1;33m.\u001b[0m\u001b[0mprogbar\u001b[0m\u001b[1;33m.\u001b[0m\u001b[0mupdate\u001b[0m\u001b[1;33m(\u001b[0m\u001b[0mself\u001b[0m\u001b[1;33m.\u001b[0m\u001b[0mseen\u001b[0m\u001b[1;33m,\u001b[0m \u001b[0mlist\u001b[0m\u001b[1;33m(\u001b[0m\u001b[0mlogs\u001b[0m\u001b[1;33m.\u001b[0m\u001b[0mitems\u001b[0m\u001b[1;33m(\u001b[0m\u001b[1;33m)\u001b[0m\u001b[1;33m)\u001b[0m\u001b[1;33m,\u001b[0m \u001b[0mfinalize\u001b[0m\u001b[1;33m=\u001b[0m\u001b[1;32mTrue\u001b[0m\u001b[1;33m)\u001b[0m\u001b[1;33m\u001b[0m\u001b[1;33m\u001b[0m\u001b[0m\n\u001b[0m\u001b[0;32m    936\u001b[0m \u001b[1;33m\u001b[0m\u001b[0m\n\u001b[0;32m    937\u001b[0m \u001b[1;33m\u001b[0m\u001b[0m\n",
            "\u001b[1;31mAttributeError\u001b[0m: 'NoneType' object has no attribute 'update'"
          ]
        }
      ]
    },
    {
      "cell_type": "code",
      "source": [
        "xDay=predDay>=0\n",
        "predicted_class_indices=[int(item) for item in xDay]\n",
        "predictions = [labels[k] for k in predicted_class_indices]\n",
        "values  = [predDay[k][0] for k in range(predDay.size)]\n",
        "x=max(predDay)\n",
        "idx=np.where(predDay==x)\n",
        "listArr=np.asarray(dayList)\n",
        "predicted_class_indices=[int(item) for item in xDay]\n",
        "predictions = [labels[k] for k in predicted_class_indices]\n",
        "values  = [predDay[k][0] for k in range(predDay.size)]\n",
        "print(x)\n",
        "id=idx[0]\n",
        "print(id)\n",
        "filesNb=len(dayList)\n",
        "for i in range(0,filesNb-1):\n",
        "  fname=str(listArr[i])\n",
        "  idx=fname.find(\"MDAlarm\")\n",
        "  fname=fname[idx:]\n",
        "  #fname=fname[:27]\n",
        "  #print(fname)\n",
        "  det=predictions[int(i)]\n",
        "  value=float(predDay[int(i)])\n",
        "  print(fname,det)\n",
        "  insert_Picture(fname,value,det,1)\n",
        "  if os.path.exists(str(listArr[i])):\n",
        "    os.remove(str(listArr[i]))\n",
        "  else:\n",
        "    print(str(listArr[i]),\" does not exist\")"
      ],
      "metadata": {
        "colab": {
          "base_uri": "https://localhost:8080/",
          "height": 393
        },
        "id": "6WYL_mTX4hPx",
        "outputId": "e69efb73-27c3-419f-9938-2c7829c64d9f"
      },
      "execution_count": 341,
      "outputs": [
        {
          "output_type": "stream",
          "name": "stdout",
          "text": [
            "[121.88619]\n",
            "[3]\n",
            "MDAlarm_20220315-084048.jpg something\n",
            "MDAlarm_20220315-084050.jpg something\n",
            "MDAlarm_20220315-084052.jpg something\n",
            "MDAlarm_20220315-084107.jpg something\n",
            "MDAlarm_20220315-084109.jpg something\n",
            "MDAlarm_20220315-084111.jpg something\n"
          ]
        },
        {
          "output_type": "error",
          "ename": "IndexError",
          "evalue": "ignored",
          "traceback": [
            "\u001b[1;31m---------------------------------------------------------------------------\u001b[0m",
            "\u001b[1;31mIndexError\u001b[0m                                Traceback (most recent call last)",
            "\u001b[1;32m<ipython-input-341-d77b3ca2f74f>\u001b[0m in \u001b[0;36m<module>\u001b[1;34m\u001b[0m\n\u001b[0;32m     13\u001b[0m \u001b[0mprint\u001b[0m\u001b[1;33m(\u001b[0m\u001b[0mid\u001b[0m\u001b[1;33m)\u001b[0m\u001b[1;33m\u001b[0m\u001b[1;33m\u001b[0m\u001b[0m\n\u001b[0;32m     14\u001b[0m \u001b[1;32mfor\u001b[0m \u001b[0mi\u001b[0m \u001b[1;32min\u001b[0m \u001b[0mrange\u001b[0m\u001b[1;33m(\u001b[0m\u001b[1;36m0\u001b[0m\u001b[1;33m,\u001b[0m\u001b[0mlen\u001b[0m\u001b[1;33m(\u001b[0m\u001b[0mfilenames\u001b[0m\u001b[1;33m)\u001b[0m\u001b[1;33m-\u001b[0m\u001b[1;36m1\u001b[0m\u001b[1;33m)\u001b[0m\u001b[1;33m:\u001b[0m\u001b[1;33m\u001b[0m\u001b[1;33m\u001b[0m\u001b[0m\n\u001b[1;32m---> 15\u001b[1;33m   \u001b[0mfname\u001b[0m\u001b[1;33m=\u001b[0m\u001b[0mstr\u001b[0m\u001b[1;33m(\u001b[0m\u001b[0mlistArr\u001b[0m\u001b[1;33m[\u001b[0m\u001b[0mi\u001b[0m\u001b[1;33m]\u001b[0m\u001b[1;33m)\u001b[0m\u001b[1;33m\u001b[0m\u001b[1;33m\u001b[0m\u001b[0m\n\u001b[0m\u001b[0;32m     16\u001b[0m   \u001b[0midx\u001b[0m\u001b[1;33m=\u001b[0m\u001b[0mfname\u001b[0m\u001b[1;33m.\u001b[0m\u001b[0mfind\u001b[0m\u001b[1;33m(\u001b[0m\u001b[1;34m\"MDAlarm\"\u001b[0m\u001b[1;33m)\u001b[0m\u001b[1;33m\u001b[0m\u001b[1;33m\u001b[0m\u001b[0m\n\u001b[0;32m     17\u001b[0m   \u001b[0mfname\u001b[0m\u001b[1;33m=\u001b[0m\u001b[0mfname\u001b[0m\u001b[1;33m[\u001b[0m\u001b[0midx\u001b[0m\u001b[1;33m:\u001b[0m\u001b[1;33m]\u001b[0m\u001b[1;33m\u001b[0m\u001b[1;33m\u001b[0m\u001b[0m\n",
            "\u001b[1;31mIndexError\u001b[0m: index 6 is out of bounds for axis 0 with size 6"
          ]
        }
      ]
    },
    {
      "cell_type": "code",
      "source": [
        "night_image_generator = ImageDataGenerator(rescale=1./255) # Generator for our test data\n",
        "night_generator = test_image_generator.flow_from_directory(batch_size=len(nightList),\n",
        "                                                              directory=night_Dir,\n",
        "                                                              shuffle=False,\n",
        "                                                              target_size=(IMG_HEIGHT2, IMG_WIDTH2),\n",
        "                                                              class_mode='binary')\n",
        "STEP_SIZE_TEST=night_generator.n //test_generator.batch_size\n",
        "test_generator.reset()\n",
        "predNight=modelNight.predict(night_generator,steps=STEP_SIZE_TEST,verbose=1)\n",
        "predNight.size"
      ],
      "metadata": {
        "colab": {
          "base_uri": "https://localhost:8080/"
        },
        "id": "zWU5YvI-Vi0q",
        "outputId": "c5236059-fa39-4f19-a64b-fb4c7146d001"
      },
      "execution_count": 313,
      "outputs": [
        {
          "output_type": "stream",
          "name": "stdout",
          "text": [
            "Found 24 images belonging to 1 classes.\n",
            "1/4 [======>.......................] - ETA: 0sWARNING:tensorflow:Your input ran out of data; interrupting training. Make sure that your dataset or generator can generate at least `steps_per_epoch * epochs` batches (in this case, 4 batches). You may need to use the repeat() function when building your dataset.\n",
            "1/4 [======>.......................] - 0s 9ms/step\n"
          ]
        },
        {
          "output_type": "execute_result",
          "data": {
            "text/plain": [
              "24"
            ]
          },
          "metadata": {},
          "execution_count": 313
        }
      ]
    },
    {
      "cell_type": "code",
      "source": [
        ""
      ],
      "metadata": {
        "id": "8jVn-HDIYHw7"
      },
      "execution_count": null,
      "outputs": []
    },
    {
      "cell_type": "code",
      "source": [
        "xNight=predNight>=0\n",
        "predicted_class_indices=[int(item) for item in xNight]\n",
        "predictions = [labels[k] for k in predicted_class_indices]\n",
        "values  = [predNight[k][0] for k in range(predNight.size)]\n",
        "x=max(predNight)\n",
        "idx=np.where(predNight==x)\n",
        "listArr=np.asarray(nightList)\n",
        "predicted_class_indices=[int(item) for item in xNight]\n",
        "predictions = [labels[k] for k in predicted_class_indices]\n",
        "values  = [predDay[k][0] for k in range(predDay.size)]\n",
        "print(x)\n",
        "id=idx[0]\n",
        "print(id)\n",
        "for i in range(0,len(filenames)):\n",
        "  fname=str(listArr[i])\n",
        "  idx=fname.find(\"MDAlarm\")\n",
        "  fname=fname[idx:]\n",
        "  #fname=fname[:27]\n",
        "  #print(fname)\n",
        "  det=predictions[int(i)]\n",
        "  value=float(predNight[int(i)])\n",
        "  print(fname,det)\n",
        "  insert_Picture(fname,value,det,2)\n",
        "  if os.path.exists(str(listArr[i])):\n",
        "    os.remove(str(listArr[i]))\n",
        "  else:\n",
        "    print(str(listArr[i]),\" does not exist\")"
      ],
      "metadata": {
        "colab": {
          "base_uri": "https://localhost:8080/",
          "height": 946
        },
        "id": "JZ5de2SAVjWM",
        "outputId": "97ca20bd-4522-4e21-b8f1-3a92afa016a3"
      },
      "execution_count": 315,
      "outputs": [
        {
          "output_type": "stream",
          "name": "stdout",
          "text": [
            "[-7.4217753]\n",
            "[21]\n",
            "MDAlarm_20220314-210236.jpg ras\n",
            "X:\\foscam\\toDetermineNight\\files\\MDAlarm_20220314-210236.jpg  does not exist\n",
            "MDAlarm_20220314-210238.jpg ras\n",
            "X:\\foscam\\toDetermineNight\\files\\MDAlarm_20220314-210238.jpg  does not exist\n",
            "MDAlarm_20220314-210240.jpg ras\n",
            "X:\\foscam\\toDetermineNight\\files\\MDAlarm_20220314-210240.jpg  does not exist\n",
            "MDAlarm_20220314-215833.jpg ras\n",
            "X:\\foscam\\toDetermineNight\\files\\MDAlarm_20220314-215833.jpg  does not exist\n",
            "MDAlarm_20220314-215835.jpg ras\n",
            "X:\\foscam\\toDetermineNight\\files\\MDAlarm_20220314-215835.jpg  does not exist\n",
            "MDAlarm_20220314-215837.jpg ras\n",
            "X:\\foscam\\toDetermineNight\\files\\MDAlarm_20220314-215837.jpg  does not exist\n",
            "MDAlarm_20220315-034106.jpg ras\n",
            "X:\\foscam\\toDetermineNight\\files\\MDAlarm_20220315-034106.jpg  does not exist\n",
            "MDAlarm_20220315-034108.jpg ras\n",
            "X:\\foscam\\toDetermineNight\\files\\MDAlarm_20220315-034108.jpg  does not exist\n",
            "MDAlarm_20220315-034110.jpg ras\n",
            "X:\\foscam\\toDetermineNight\\files\\MDAlarm_20220315-034110.jpg  does not exist\n",
            "MDAlarm_20220315-045125.jpg ras\n",
            "X:\\foscam\\toDetermineNight\\files\\MDAlarm_20220315-045125.jpg  does not exist\n",
            "MDAlarm_20220315-045127.jpg ras\n",
            "X:\\foscam\\toDetermineNight\\files\\MDAlarm_20220315-045127.jpg  does not exist\n",
            "MDAlarm_20220315-045129.jpg ras\n",
            "X:\\foscam\\toDetermineNight\\files\\MDAlarm_20220315-045129.jpg  does not exist\n",
            "MDAlarm_20220315-050741.jpg ras\n",
            "MDAlarm_20220315-050743.jpg ras\n",
            "MDAlarm_20220315-050745.jpg ras\n",
            "MDAlarm_20220315-054937.jpg ras\n",
            "MDAlarm_20220315-054939.jpg ras\n",
            "MDAlarm_20220315-054941.jpg ras\n",
            "MDAlarm_20220315-063452.jpg ras\n",
            "MDAlarm_20220315-063454.jpg ras\n",
            "MDAlarm_20220315-063456.jpg ras\n",
            "MDAlarm_20220315-064222.jpg ras\n",
            "MDAlarm_20220315-064224.jpg ras\n",
            "MDAlarm_20220315-064226.jpg ras\n"
          ]
        },
        {
          "output_type": "error",
          "ename": "IndexError",
          "evalue": "ignored",
          "traceback": [
            "\u001b[1;31m---------------------------------------------------------------------------\u001b[0m",
            "\u001b[1;31mIndexError\u001b[0m                                Traceback (most recent call last)",
            "\u001b[1;32m<ipython-input-315-8c527ffd41c5>\u001b[0m in \u001b[0;36m<module>\u001b[1;34m\u001b[0m\n\u001b[0;32m     13\u001b[0m \u001b[0mprint\u001b[0m\u001b[1;33m(\u001b[0m\u001b[0mid\u001b[0m\u001b[1;33m)\u001b[0m\u001b[1;33m\u001b[0m\u001b[1;33m\u001b[0m\u001b[0m\n\u001b[0;32m     14\u001b[0m \u001b[1;32mfor\u001b[0m \u001b[0mi\u001b[0m \u001b[1;32min\u001b[0m \u001b[0mrange\u001b[0m\u001b[1;33m(\u001b[0m\u001b[1;36m0\u001b[0m\u001b[1;33m,\u001b[0m\u001b[0mlen\u001b[0m\u001b[1;33m(\u001b[0m\u001b[0mfilenames\u001b[0m\u001b[1;33m)\u001b[0m\u001b[1;33m)\u001b[0m\u001b[1;33m:\u001b[0m\u001b[1;33m\u001b[0m\u001b[1;33m\u001b[0m\u001b[0m\n\u001b[1;32m---> 15\u001b[1;33m   \u001b[0mfname\u001b[0m\u001b[1;33m=\u001b[0m\u001b[0mstr\u001b[0m\u001b[1;33m(\u001b[0m\u001b[0mlistArr\u001b[0m\u001b[1;33m[\u001b[0m\u001b[0mi\u001b[0m\u001b[1;33m]\u001b[0m\u001b[1;33m)\u001b[0m\u001b[1;33m\u001b[0m\u001b[1;33m\u001b[0m\u001b[0m\n\u001b[0m\u001b[0;32m     16\u001b[0m   \u001b[0midx\u001b[0m\u001b[1;33m=\u001b[0m\u001b[0mfname\u001b[0m\u001b[1;33m.\u001b[0m\u001b[0mfind\u001b[0m\u001b[1;33m(\u001b[0m\u001b[1;34m\"MDAlarm\"\u001b[0m\u001b[1;33m)\u001b[0m\u001b[1;33m\u001b[0m\u001b[1;33m\u001b[0m\u001b[0m\n\u001b[0;32m     17\u001b[0m   \u001b[0mfname\u001b[0m\u001b[1;33m=\u001b[0m\u001b[0mfname\u001b[0m\u001b[1;33m[\u001b[0m\u001b[0midx\u001b[0m\u001b[1;33m:\u001b[0m\u001b[1;33m]\u001b[0m\u001b[1;33m\u001b[0m\u001b[1;33m\u001b[0m\u001b[0m\n",
            "\u001b[1;31mIndexError\u001b[0m: index 24 is out of bounds for axis 0 with size 24"
          ]
        }
      ]
    },
    {
      "cell_type": "code",
      "source": [
        "domotique.commit()"
      ],
      "metadata": {
        "id": "T52g_LWX9DDT"
      },
      "execution_count": 273,
      "outputs": []
    }
  ]
}